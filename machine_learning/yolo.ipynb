{
 "cells": [
  {
   "cell_type": "code",
   "execution_count": 1,
   "metadata": {},
   "outputs": [],
   "source": [
    "from ultralytics import YOLO\n",
    "from matplotlib import pyplot as plt\n",
    "from PIL import Image"
   ]
  },
  {
   "cell_type": "code",
   "execution_count": 10,
   "metadata": {},
   "outputs": [],
   "source": [
    "\n",
    "#Instance (n-s-m-l-x)\n",
    "# model = YOLO('yolov8s-seg.yaml')  # build a new model from YAML\n",
    "model = YOLO('yolov8s-seg.pt')  # Transfer the weights from a pretrained model (recommended for training)\n",
    "folder = \"C:/Users/domin/Leaf Color Detector/LCD24/YOLO/dataset-per-week/yolo_dataset_w1\"\n",
    "#Define subdirectory for this specific training\n",
    "modelname = \"test-10-epoch\" #note that if you run the training again, it creates a directory: 200_epochs-2\n",
    "# name = \"100_epochs_s_w1-\" #note that if you run the training again, it creates a directory: 200_epochs-2\n",
    "epochs = 10"
   ]
  },
  {
   "cell_type": "code",
   "execution_count": 11,
   "metadata": {},
   "outputs": [],
   "source": [
    "# define number of classes based on YAML\n",
    "import yaml\n",
    "with open(folder + \"/data.yaml\", 'r') as stream:\n",
    "    num_classes = str(yaml.safe_load(stream)['nc'])"
   ]
  },
  {
   "cell_type": "code",
   "execution_count": null,
   "metadata": {},
   "outputs": [],
   "source": [
    "#Define a project --> Destination directory for all results\n",
    "project = folder + \"/results\"\n",
    "\n",
    "#TODO check if the image size has an impact on the training\n",
    "# Train the model\n",
    "results = model.train(data= folder + \"/data.yaml\",\n",
    "                      project=project,\n",
    "                      name=modelname,\n",
    "                      epochs=epochs,\n",
    "                      patience=0, #I am setting patience=0 to disable early stopping.\n",
    "                      batch=4,\n",
    "                      imgsz=500,\n",
    "                      mosaic = 0.0, #disables mosaic augmentation\n",
    "                      scale = 0 #disables multi-scale training\n",
    "                      )"
   ]
  },
  {
   "cell_type": "code",
   "execution_count": null,
   "metadata": {},
   "outputs": [],
   "source": [
    "from IPython.display import Image\n",
    "Image(filename=folder + '/results/'+modelname+'/results.png')  # View the training image\n",
    "\n"
   ]
  },
  {
   "cell_type": "markdown",
   "metadata": {},
   "source": [
    "### Inference"
   ]
  },
  {
   "cell_type": "code",
   "execution_count": null,
   "metadata": {},
   "outputs": [],
   "source": [
    "%matplotlib inline\n",
    "import matplotlib.pyplot as plt\n",
    "mynewmodel = YOLO(folder + '/results/' + modelname + '/weights/best.pt')  # Load the best model from the 'train' subdirectory\n",
    "#results = mynewmodel.test(data=\"C:/Users/domin/Leaf Color Detector/YOLO/small-dataset/yolo_dataset/data.yaml\", batch_size=4)  # Test the best model\n",
    "new_image = 'C:/Users/domin/Leaf Color Detector/Leaf_Color_Detector/spinach/no overlap/all pictures/108_w1.jpg'\n",
    "new_results = mynewmodel.predict(new_image, conf = 0.8)  # Inference on a single image\n",
    "\n",
    "new_result_array = new_results[0].plot()\n",
    "plt.figure(figsize=(12, 12))\n",
    "plt.imshow(new_result_array)"
   ]
  },
  {
   "cell_type": "code",
   "execution_count": null,
   "metadata": {},
   "outputs": [],
   "source": [
    "import os\n",
    "\n",
    "# Define the input and output directories\n",
    "input_dir = \"C:/Users/domin/Leaf Color Detector/Leaf_Color_Detector/spinach/no overlap/all pictures\"\n",
    "output_dir = \"C:/Users/domin/Leaf Color Detector/yolo results/100 epochs s\"\n",
    "mynewmodel = YOLO('C:/Users/domin/Leaf Color Detector/LCD24/YOLO/dataset/yolo_dataset/results/100_epochs_s-/weights/best.pt')  # Load the best model from the 'train' subdirectory\n",
    "\n",
    "# Create the output directory if it doesn't exist\n",
    "os.makedirs(output_dir, exist_ok=True)\n",
    "\n",
    "# Iterate over the files in the input directory\n",
    "for filename in os.listdir(input_dir):\n",
    "    if \"w\" in filename:\n",
    "        # Construct the full path of the image\n",
    "        image_path = os.path.join(input_dir, filename)\n",
    "        \n",
    "        # Perform inference on the image\n",
    "        results = mynewmodel.predict(image_path, conf=0.7)\n",
    "        result_array = results[0].plot()\n",
    "        \n",
    "        # Save the plot in the output directory\n",
    "        output_path = os.path.join(output_dir, f\"{filename.split('.')[0]}.png\")\n",
    "        plt.figure(figsize=(12, 12))\n",
    "        plt.imshow(result_array)\n",
    "        plt.savefig(output_path)\n",
    "        plt.close()"
   ]
  }
 ],
 "metadata": {
  "kernelspec": {
   "display_name": "base",
   "language": "python",
   "name": "python3"
  },
  "language_info": {
   "codemirror_mode": {
    "name": "ipython",
    "version": 3
   },
   "file_extension": ".py",
   "mimetype": "text/x-python",
   "name": "python",
   "nbconvert_exporter": "python",
   "pygments_lexer": "ipython3",
   "version": "3.11.6"
  }
 },
 "nbformat": 4,
 "nbformat_minor": 2
}
